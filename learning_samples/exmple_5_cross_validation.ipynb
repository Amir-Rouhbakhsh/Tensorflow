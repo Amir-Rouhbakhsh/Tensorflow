{
  "nbformat": 4,
  "nbformat_minor": 0,
  "metadata": {
    "colab": {
      "provenance": [],
      "gpuType": "T4"
    },
    "kernelspec": {
      "name": "python3",
      "display_name": "Python 3"
    },
    "language_info": {
      "name": "python"
    },
    "accelerator": "GPU"
  },
  "cells": [
    {
      "cell_type": "code",
      "execution_count": 12,
      "metadata": {
        "id": "EK3Vq9uv9Rv7"
      },
      "outputs": [],
      "source": [
        "import tensorflow as tf\n",
        "from tensorflow import keras\n",
        "import matplotlib.pyplot as plt\n",
        "import numpy as np"
      ]
    },
    {
      "cell_type": "code",
      "source": [
        "from sklearn.datasets import make_classification\n",
        "x,y= make_classification(n_samples=1000, n_features=10, n_informative=8, n_redundant=2, random_state=0)"
      ],
      "metadata": {
        "id": "7bWjvgD799AF"
      },
      "execution_count": 13,
      "outputs": []
    },
    {
      "cell_type": "code",
      "source": [
        "x[60]"
      ],
      "metadata": {
        "colab": {
          "base_uri": "https://localhost:8080/"
        },
        "id": "LmRhoa_x-f10",
        "outputId": "d3b5c411-830d-48fd-a582-20d0828a27d4"
      },
      "execution_count": 14,
      "outputs": [
        {
          "output_type": "execute_result",
          "data": {
            "text/plain": [
              "array([ 0.55004084,  1.40940304, -2.74862205, -4.80233427,  5.0953792 ,\n",
              "        2.02387354,  1.03232545, -0.91652994, -3.360814  , -1.73222718])"
            ]
          },
          "metadata": {},
          "execution_count": 14
        }
      ]
    },
    {
      "cell_type": "code",
      "source": [
        "y[60]"
      ],
      "metadata": {
        "colab": {
          "base_uri": "https://localhost:8080/"
        },
        "id": "yaSa-9i1-g0k",
        "outputId": "5a7e093d-4f28-4c56-966f-c30bfc5dd7f4"
      },
      "execution_count": 15,
      "outputs": [
        {
          "output_type": "execute_result",
          "data": {
            "text/plain": [
              "0"
            ]
          },
          "metadata": {},
          "execution_count": 15
        }
      ]
    },
    {
      "cell_type": "code",
      "source": [
        "def create_model():\n",
        "  model= keras.Sequential()\n",
        "  model.add(keras.layers.Dense(units=16, activation='relu'))\n",
        "  model.add(keras.layers.Dense(units=1, activation='sigmoid'))\n",
        "  model.compile(optimizer=tf.optimizers.Adam(), loss=tf.losses.binary_crossentropy , metrics=['accuracy'])\n",
        "  return model"
      ],
      "metadata": {
        "id": "Ec5e5_b4-iDE"
      },
      "execution_count": 37,
      "outputs": []
    },
    {
      "cell_type": "markdown",
      "source": [
        "Cross Validation"
      ],
      "metadata": {
        "id": "x4_nvvP-_iXF"
      }
    },
    {
      "cell_type": "code",
      "source": [
        "n_split=5\n",
        "\n",
        "from sklearn.model_selection import StratifiedKFold\n",
        "from sklearn.metrics import accuracy_score\n",
        "\n",
        "kf=StratifiedKFold(n_splits=n_split, shuffle= True)\n",
        "\n",
        "acc_total=[]\n",
        "\n",
        "for train_index, validation_index in kf.split(x,y):\n",
        "  x_train=x[train_index]\n",
        "  y_train=y[train_index]\n",
        "\n",
        "  x_validation=x[validation_index]\n",
        "  y_validation=y[validation_index]\n",
        "\n",
        "  model= create_model()\n",
        "  model.fit(x_train, y_train, epochs=20, batch_size=64, validation_data=(x_validation, y_validation), verbose=2)\n",
        "  y_pred= model.predict(x_validation)\n",
        "  y_pred=(y_pred>0.5).astype('int32')\n",
        "\n",
        "  acc=accuracy_score(y_true=y_validation , y_pred= y_pred)\n",
        "  acc_total.append(acc)\n"
      ],
      "metadata": {
        "colab": {
          "base_uri": "https://localhost:8080/"
        },
        "id": "itwDccZq_mRF",
        "outputId": "ed1be1d5-6028-4683-8035-8b2806186817"
      },
      "execution_count": 41,
      "outputs": [
        {
          "output_type": "stream",
          "name": "stdout",
          "text": [
            "Epoch 1/20\n",
            "13/13 - 1s - loss: 0.7320 - accuracy: 0.6662 - val_loss: 0.6842 - val_accuracy: 0.7000 - 897ms/epoch - 69ms/step\n",
            "Epoch 2/20\n",
            "13/13 - 0s - loss: 0.6436 - accuracy: 0.7325 - val_loss: 0.6050 - val_accuracy: 0.7650 - 70ms/epoch - 5ms/step\n",
            "Epoch 3/20\n",
            "13/13 - 0s - loss: 0.5729 - accuracy: 0.7763 - val_loss: 0.5401 - val_accuracy: 0.7950 - 60ms/epoch - 5ms/step\n",
            "Epoch 4/20\n",
            "13/13 - 0s - loss: 0.5144 - accuracy: 0.8100 - val_loss: 0.4885 - val_accuracy: 0.8200 - 79ms/epoch - 6ms/step\n",
            "Epoch 5/20\n",
            "13/13 - 0s - loss: 0.4673 - accuracy: 0.8275 - val_loss: 0.4466 - val_accuracy: 0.8400 - 62ms/epoch - 5ms/step\n",
            "Epoch 6/20\n",
            "13/13 - 0s - loss: 0.4284 - accuracy: 0.8537 - val_loss: 0.4123 - val_accuracy: 0.8550 - 80ms/epoch - 6ms/step\n",
            "Epoch 7/20\n",
            "13/13 - 0s - loss: 0.3964 - accuracy: 0.8587 - val_loss: 0.3827 - val_accuracy: 0.8550 - 64ms/epoch - 5ms/step\n",
            "Epoch 8/20\n",
            "13/13 - 0s - loss: 0.3693 - accuracy: 0.8775 - val_loss: 0.3576 - val_accuracy: 0.8750 - 73ms/epoch - 6ms/step\n",
            "Epoch 9/20\n",
            "13/13 - 0s - loss: 0.3452 - accuracy: 0.8863 - val_loss: 0.3378 - val_accuracy: 0.8800 - 73ms/epoch - 6ms/step\n",
            "Epoch 10/20\n",
            "13/13 - 0s - loss: 0.3256 - accuracy: 0.8913 - val_loss: 0.3199 - val_accuracy: 0.8850 - 60ms/epoch - 5ms/step\n",
            "Epoch 11/20\n",
            "13/13 - 0s - loss: 0.3089 - accuracy: 0.8925 - val_loss: 0.3036 - val_accuracy: 0.8900 - 76ms/epoch - 6ms/step\n",
            "Epoch 12/20\n",
            "13/13 - 0s - loss: 0.2941 - accuracy: 0.8950 - val_loss: 0.2902 - val_accuracy: 0.9100 - 77ms/epoch - 6ms/step\n",
            "Epoch 13/20\n",
            "13/13 - 0s - loss: 0.2813 - accuracy: 0.8988 - val_loss: 0.2782 - val_accuracy: 0.9150 - 74ms/epoch - 6ms/step\n",
            "Epoch 14/20\n",
            "13/13 - 0s - loss: 0.2700 - accuracy: 0.9013 - val_loss: 0.2674 - val_accuracy: 0.9150 - 77ms/epoch - 6ms/step\n",
            "Epoch 15/20\n",
            "13/13 - 0s - loss: 0.2597 - accuracy: 0.9075 - val_loss: 0.2575 - val_accuracy: 0.9200 - 75ms/epoch - 6ms/step\n",
            "Epoch 16/20\n",
            "13/13 - 0s - loss: 0.2508 - accuracy: 0.9150 - val_loss: 0.2490 - val_accuracy: 0.9250 - 98ms/epoch - 8ms/step\n",
            "Epoch 17/20\n",
            "13/13 - 0s - loss: 0.2423 - accuracy: 0.9175 - val_loss: 0.2414 - val_accuracy: 0.9250 - 100ms/epoch - 8ms/step\n",
            "Epoch 18/20\n",
            "13/13 - 0s - loss: 0.2350 - accuracy: 0.9175 - val_loss: 0.2346 - val_accuracy: 0.9300 - 92ms/epoch - 7ms/step\n",
            "Epoch 19/20\n",
            "13/13 - 0s - loss: 0.2285 - accuracy: 0.9187 - val_loss: 0.2281 - val_accuracy: 0.9400 - 88ms/epoch - 7ms/step\n",
            "Epoch 20/20\n",
            "13/13 - 0s - loss: 0.2226 - accuracy: 0.9225 - val_loss: 0.2220 - val_accuracy: 0.9400 - 94ms/epoch - 7ms/step\n",
            "7/7 [==============================] - 0s 4ms/step\n",
            "Epoch 1/20\n",
            "13/13 - 1s - loss: 0.7813 - accuracy: 0.5813 - val_loss: 0.7577 - val_accuracy: 0.6200 - 1s/epoch - 97ms/step\n",
            "Epoch 2/20\n",
            "13/13 - 0s - loss: 0.6446 - accuracy: 0.6363 - val_loss: 0.6272 - val_accuracy: 0.6600 - 61ms/epoch - 5ms/step\n",
            "Epoch 3/20\n",
            "13/13 - 0s - loss: 0.5410 - accuracy: 0.7325 - val_loss: 0.5267 - val_accuracy: 0.7250 - 77ms/epoch - 6ms/step\n",
            "Epoch 4/20\n",
            "13/13 - 0s - loss: 0.4657 - accuracy: 0.7975 - val_loss: 0.4526 - val_accuracy: 0.8100 - 95ms/epoch - 7ms/step\n",
            "Epoch 5/20\n",
            "13/13 - 0s - loss: 0.4122 - accuracy: 0.8338 - val_loss: 0.4003 - val_accuracy: 0.8400 - 105ms/epoch - 8ms/step\n",
            "Epoch 6/20\n",
            "13/13 - 0s - loss: 0.3726 - accuracy: 0.8537 - val_loss: 0.3632 - val_accuracy: 0.8400 - 105ms/epoch - 8ms/step\n",
            "Epoch 7/20\n",
            "13/13 - 0s - loss: 0.3448 - accuracy: 0.8763 - val_loss: 0.3350 - val_accuracy: 0.8750 - 87ms/epoch - 7ms/step\n",
            "Epoch 8/20\n",
            "13/13 - 0s - loss: 0.3221 - accuracy: 0.8950 - val_loss: 0.3145 - val_accuracy: 0.8800 - 68ms/epoch - 5ms/step\n",
            "Epoch 9/20\n",
            "13/13 - 0s - loss: 0.3049 - accuracy: 0.8975 - val_loss: 0.2978 - val_accuracy: 0.8950 - 85ms/epoch - 7ms/step\n",
            "Epoch 10/20\n",
            "13/13 - 0s - loss: 0.2902 - accuracy: 0.9000 - val_loss: 0.2852 - val_accuracy: 0.9000 - 76ms/epoch - 6ms/step\n",
            "Epoch 11/20\n",
            "13/13 - 0s - loss: 0.2785 - accuracy: 0.9100 - val_loss: 0.2755 - val_accuracy: 0.9000 - 60ms/epoch - 5ms/step\n",
            "Epoch 12/20\n",
            "13/13 - 0s - loss: 0.2685 - accuracy: 0.9112 - val_loss: 0.2675 - val_accuracy: 0.9000 - 74ms/epoch - 6ms/step\n",
            "Epoch 13/20\n",
            "13/13 - 0s - loss: 0.2595 - accuracy: 0.9112 - val_loss: 0.2601 - val_accuracy: 0.9100 - 62ms/epoch - 5ms/step\n",
            "Epoch 14/20\n",
            "13/13 - 0s - loss: 0.2520 - accuracy: 0.9162 - val_loss: 0.2539 - val_accuracy: 0.9100 - 77ms/epoch - 6ms/step\n",
            "Epoch 15/20\n",
            "13/13 - 0s - loss: 0.2451 - accuracy: 0.9137 - val_loss: 0.2478 - val_accuracy: 0.9000 - 72ms/epoch - 6ms/step\n",
            "Epoch 16/20\n",
            "13/13 - 0s - loss: 0.2387 - accuracy: 0.9137 - val_loss: 0.2425 - val_accuracy: 0.9050 - 73ms/epoch - 6ms/step\n",
            "Epoch 17/20\n",
            "13/13 - 0s - loss: 0.2331 - accuracy: 0.9162 - val_loss: 0.2373 - val_accuracy: 0.9050 - 71ms/epoch - 5ms/step\n",
            "Epoch 18/20\n",
            "13/13 - 0s - loss: 0.2279 - accuracy: 0.9175 - val_loss: 0.2334 - val_accuracy: 0.9050 - 60ms/epoch - 5ms/step\n",
            "Epoch 19/20\n",
            "13/13 - 0s - loss: 0.2231 - accuracy: 0.9175 - val_loss: 0.2288 - val_accuracy: 0.9100 - 59ms/epoch - 5ms/step\n",
            "Epoch 20/20\n",
            "13/13 - 0s - loss: 0.2187 - accuracy: 0.9175 - val_loss: 0.2258 - val_accuracy: 0.9150 - 60ms/epoch - 5ms/step\n",
            "7/7 [==============================] - 0s 2ms/step\n",
            "Epoch 1/20\n",
            "13/13 - 1s - loss: 0.7913 - accuracy: 0.4950 - val_loss: 0.7231 - val_accuracy: 0.5000 - 897ms/epoch - 69ms/step\n",
            "Epoch 2/20\n",
            "13/13 - 0s - loss: 0.6821 - accuracy: 0.5450 - val_loss: 0.6262 - val_accuracy: 0.6100 - 79ms/epoch - 6ms/step\n",
            "Epoch 3/20\n",
            "13/13 - 0s - loss: 0.5900 - accuracy: 0.6250 - val_loss: 0.5523 - val_accuracy: 0.6650 - 63ms/epoch - 5ms/step\n",
            "Epoch 4/20\n",
            "13/13 - 0s - loss: 0.5211 - accuracy: 0.7200 - val_loss: 0.4948 - val_accuracy: 0.7650 - 75ms/epoch - 6ms/step\n",
            "Epoch 5/20\n",
            "13/13 - 0s - loss: 0.4674 - accuracy: 0.7763 - val_loss: 0.4489 - val_accuracy: 0.8150 - 61ms/epoch - 5ms/step\n",
            "Epoch 6/20\n",
            "13/13 - 0s - loss: 0.4241 - accuracy: 0.8325 - val_loss: 0.4140 - val_accuracy: 0.8450 - 75ms/epoch - 6ms/step\n",
            "Epoch 7/20\n",
            "13/13 - 0s - loss: 0.3906 - accuracy: 0.8650 - val_loss: 0.3863 - val_accuracy: 0.8650 - 62ms/epoch - 5ms/step\n",
            "Epoch 8/20\n",
            "13/13 - 0s - loss: 0.3636 - accuracy: 0.8750 - val_loss: 0.3632 - val_accuracy: 0.8750 - 61ms/epoch - 5ms/step\n",
            "Epoch 9/20\n",
            "13/13 - 0s - loss: 0.3415 - accuracy: 0.8850 - val_loss: 0.3440 - val_accuracy: 0.8800 - 72ms/epoch - 6ms/step\n",
            "Epoch 10/20\n",
            "13/13 - 0s - loss: 0.3230 - accuracy: 0.8925 - val_loss: 0.3272 - val_accuracy: 0.8900 - 74ms/epoch - 6ms/step\n",
            "Epoch 11/20\n",
            "13/13 - 0s - loss: 0.3069 - accuracy: 0.8988 - val_loss: 0.3133 - val_accuracy: 0.8900 - 62ms/epoch - 5ms/step\n",
            "Epoch 12/20\n",
            "13/13 - 0s - loss: 0.2930 - accuracy: 0.9038 - val_loss: 0.3014 - val_accuracy: 0.8900 - 84ms/epoch - 6ms/step\n",
            "Epoch 13/20\n",
            "13/13 - 0s - loss: 0.2808 - accuracy: 0.9050 - val_loss: 0.2910 - val_accuracy: 0.9050 - 75ms/epoch - 6ms/step\n",
            "Epoch 14/20\n",
            "13/13 - 0s - loss: 0.2702 - accuracy: 0.9062 - val_loss: 0.2815 - val_accuracy: 0.9050 - 62ms/epoch - 5ms/step\n",
            "Epoch 15/20\n",
            "13/13 - 0s - loss: 0.2610 - accuracy: 0.9100 - val_loss: 0.2731 - val_accuracy: 0.9150 - 64ms/epoch - 5ms/step\n",
            "Epoch 16/20\n",
            "13/13 - 0s - loss: 0.2522 - accuracy: 0.9112 - val_loss: 0.2654 - val_accuracy: 0.9200 - 73ms/epoch - 6ms/step\n",
            "Epoch 17/20\n",
            "13/13 - 0s - loss: 0.2445 - accuracy: 0.9162 - val_loss: 0.2590 - val_accuracy: 0.9300 - 77ms/epoch - 6ms/step\n",
            "Epoch 18/20\n",
            "13/13 - 0s - loss: 0.2373 - accuracy: 0.9175 - val_loss: 0.2523 - val_accuracy: 0.9300 - 68ms/epoch - 5ms/step\n",
            "Epoch 19/20\n",
            "13/13 - 0s - loss: 0.2305 - accuracy: 0.9187 - val_loss: 0.2463 - val_accuracy: 0.9300 - 67ms/epoch - 5ms/step\n",
            "Epoch 20/20\n",
            "13/13 - 0s - loss: 0.2248 - accuracy: 0.9237 - val_loss: 0.2408 - val_accuracy: 0.9300 - 77ms/epoch - 6ms/step\n",
            "7/7 [==============================] - 0s 2ms/step\n",
            "Epoch 1/20\n",
            "13/13 - 1s - loss: 0.7942 - accuracy: 0.5300 - val_loss: 0.7948 - val_accuracy: 0.5350 - 1s/epoch - 96ms/step\n",
            "Epoch 2/20\n",
            "13/13 - 0s - loss: 0.7074 - accuracy: 0.5950 - val_loss: 0.7099 - val_accuracy: 0.6150 - 63ms/epoch - 5ms/step\n",
            "Epoch 3/20\n",
            "13/13 - 0s - loss: 0.6337 - accuracy: 0.6438 - val_loss: 0.6383 - val_accuracy: 0.6300 - 74ms/epoch - 6ms/step\n",
            "Epoch 4/20\n",
            "13/13 - 0s - loss: 0.5745 - accuracy: 0.7038 - val_loss: 0.5781 - val_accuracy: 0.7100 - 62ms/epoch - 5ms/step\n",
            "Epoch 5/20\n",
            "13/13 - 0s - loss: 0.5243 - accuracy: 0.7663 - val_loss: 0.5287 - val_accuracy: 0.7750 - 73ms/epoch - 6ms/step\n",
            "Epoch 6/20\n",
            "13/13 - 0s - loss: 0.4834 - accuracy: 0.8175 - val_loss: 0.4875 - val_accuracy: 0.8350 - 62ms/epoch - 5ms/step\n",
            "Epoch 7/20\n",
            "13/13 - 0s - loss: 0.4491 - accuracy: 0.8425 - val_loss: 0.4531 - val_accuracy: 0.8700 - 73ms/epoch - 6ms/step\n",
            "Epoch 8/20\n",
            "13/13 - 0s - loss: 0.4200 - accuracy: 0.8650 - val_loss: 0.4240 - val_accuracy: 0.8700 - 64ms/epoch - 5ms/step\n",
            "Epoch 9/20\n",
            "13/13 - 0s - loss: 0.3953 - accuracy: 0.8825 - val_loss: 0.3995 - val_accuracy: 0.8800 - 76ms/epoch - 6ms/step\n",
            "Epoch 10/20\n",
            "13/13 - 0s - loss: 0.3737 - accuracy: 0.8875 - val_loss: 0.3788 - val_accuracy: 0.8850 - 76ms/epoch - 6ms/step\n",
            "Epoch 11/20\n",
            "13/13 - 0s - loss: 0.3555 - accuracy: 0.8988 - val_loss: 0.3603 - val_accuracy: 0.9050 - 75ms/epoch - 6ms/step\n",
            "Epoch 12/20\n",
            "13/13 - 0s - loss: 0.3394 - accuracy: 0.9038 - val_loss: 0.3438 - val_accuracy: 0.9200 - 64ms/epoch - 5ms/step\n",
            "Epoch 13/20\n",
            "13/13 - 0s - loss: 0.3248 - accuracy: 0.9075 - val_loss: 0.3308 - val_accuracy: 0.9100 - 73ms/epoch - 6ms/step\n",
            "Epoch 14/20\n",
            "13/13 - 0s - loss: 0.3119 - accuracy: 0.9112 - val_loss: 0.3187 - val_accuracy: 0.9100 - 64ms/epoch - 5ms/step\n",
            "Epoch 15/20\n",
            "13/13 - 0s - loss: 0.3010 - accuracy: 0.9112 - val_loss: 0.3077 - val_accuracy: 0.9100 - 74ms/epoch - 6ms/step\n",
            "Epoch 16/20\n",
            "13/13 - 0s - loss: 0.2907 - accuracy: 0.9187 - val_loss: 0.2986 - val_accuracy: 0.9100 - 65ms/epoch - 5ms/step\n",
            "Epoch 17/20\n",
            "13/13 - 0s - loss: 0.2819 - accuracy: 0.9175 - val_loss: 0.2906 - val_accuracy: 0.9150 - 62ms/epoch - 5ms/step\n",
            "Epoch 18/20\n",
            "13/13 - 0s - loss: 0.2733 - accuracy: 0.9175 - val_loss: 0.2830 - val_accuracy: 0.9150 - 80ms/epoch - 6ms/step\n",
            "Epoch 19/20\n",
            "13/13 - 0s - loss: 0.2662 - accuracy: 0.9212 - val_loss: 0.2767 - val_accuracy: 0.9150 - 72ms/epoch - 6ms/step\n",
            "Epoch 20/20\n",
            "13/13 - 0s - loss: 0.2592 - accuracy: 0.9200 - val_loss: 0.2706 - val_accuracy: 0.9150 - 61ms/epoch - 5ms/step\n",
            "7/7 [==============================] - 0s 2ms/step\n",
            "Epoch 1/20\n",
            "13/13 - 1s - loss: 0.7850 - accuracy: 0.6375 - val_loss: 0.7384 - val_accuracy: 0.6800 - 905ms/epoch - 70ms/step\n",
            "Epoch 2/20\n",
            "13/13 - 0s - loss: 0.6878 - accuracy: 0.6725 - val_loss: 0.6445 - val_accuracy: 0.7000 - 66ms/epoch - 5ms/step\n",
            "Epoch 3/20\n",
            "13/13 - 0s - loss: 0.6040 - accuracy: 0.7163 - val_loss: 0.5679 - val_accuracy: 0.7400 - 72ms/epoch - 6ms/step\n",
            "Epoch 4/20\n",
            "13/13 - 0s - loss: 0.5321 - accuracy: 0.7425 - val_loss: 0.5032 - val_accuracy: 0.7850 - 74ms/epoch - 6ms/step\n",
            "Epoch 5/20\n",
            "13/13 - 0s - loss: 0.4743 - accuracy: 0.7650 - val_loss: 0.4486 - val_accuracy: 0.7950 - 74ms/epoch - 6ms/step\n",
            "Epoch 6/20\n",
            "13/13 - 0s - loss: 0.4225 - accuracy: 0.8025 - val_loss: 0.4054 - val_accuracy: 0.8250 - 75ms/epoch - 6ms/step\n",
            "Epoch 7/20\n",
            "13/13 - 0s - loss: 0.3817 - accuracy: 0.8375 - val_loss: 0.3690 - val_accuracy: 0.8450 - 81ms/epoch - 6ms/step\n",
            "Epoch 8/20\n",
            "13/13 - 0s - loss: 0.3477 - accuracy: 0.8662 - val_loss: 0.3409 - val_accuracy: 0.8550 - 74ms/epoch - 6ms/step\n",
            "Epoch 9/20\n",
            "13/13 - 0s - loss: 0.3196 - accuracy: 0.8825 - val_loss: 0.3191 - val_accuracy: 0.8850 - 74ms/epoch - 6ms/step\n",
            "Epoch 10/20\n",
            "13/13 - 0s - loss: 0.2980 - accuracy: 0.9038 - val_loss: 0.3016 - val_accuracy: 0.8900 - 70ms/epoch - 5ms/step\n",
            "Epoch 11/20\n",
            "13/13 - 0s - loss: 0.2809 - accuracy: 0.9162 - val_loss: 0.2870 - val_accuracy: 0.8900 - 80ms/epoch - 6ms/step\n",
            "Epoch 12/20\n",
            "13/13 - 0s - loss: 0.2663 - accuracy: 0.9250 - val_loss: 0.2756 - val_accuracy: 0.8900 - 104ms/epoch - 8ms/step\n",
            "Epoch 13/20\n",
            "13/13 - 0s - loss: 0.2546 - accuracy: 0.9350 - val_loss: 0.2661 - val_accuracy: 0.9000 - 101ms/epoch - 8ms/step\n",
            "Epoch 14/20\n",
            "13/13 - 0s - loss: 0.2452 - accuracy: 0.9350 - val_loss: 0.2602 - val_accuracy: 0.9000 - 100ms/epoch - 8ms/step\n",
            "Epoch 15/20\n",
            "13/13 - 0s - loss: 0.2368 - accuracy: 0.9362 - val_loss: 0.2539 - val_accuracy: 0.9000 - 98ms/epoch - 8ms/step\n",
            "Epoch 16/20\n",
            "13/13 - 0s - loss: 0.2300 - accuracy: 0.9362 - val_loss: 0.2483 - val_accuracy: 0.9000 - 95ms/epoch - 7ms/step\n",
            "Epoch 17/20\n",
            "13/13 - 0s - loss: 0.2236 - accuracy: 0.9362 - val_loss: 0.2439 - val_accuracy: 0.9050 - 83ms/epoch - 6ms/step\n",
            "Epoch 18/20\n",
            "13/13 - 0s - loss: 0.2180 - accuracy: 0.9362 - val_loss: 0.2398 - val_accuracy: 0.9100 - 93ms/epoch - 7ms/step\n",
            "Epoch 19/20\n",
            "13/13 - 0s - loss: 0.2134 - accuracy: 0.9362 - val_loss: 0.2366 - val_accuracy: 0.9100 - 93ms/epoch - 7ms/step\n",
            "Epoch 20/20\n",
            "13/13 - 0s - loss: 0.2090 - accuracy: 0.9388 - val_loss: 0.2340 - val_accuracy: 0.9150 - 100ms/epoch - 8ms/step\n",
            "7/7 [==============================] - 0s 2ms/step\n"
          ]
        }
      ]
    },
    {
      "cell_type": "code",
      "source": [
        "acc_total"
      ],
      "metadata": {
        "colab": {
          "base_uri": "https://localhost:8080/"
        },
        "id": "v0SMijHPIdAm",
        "outputId": "45db79ef-cada-4421-d119-49960f3acfa2"
      },
      "execution_count": 40,
      "outputs": [
        {
          "output_type": "execute_result",
          "data": {
            "text/plain": [
              "[0.885, 0.905, 0.955, 0.85, 0.93]"
            ]
          },
          "metadata": {},
          "execution_count": 40
        }
      ]
    },
    {
      "cell_type": "code",
      "source": [
        "import numpy as np\n",
        "np.mean(acc_total)"
      ],
      "metadata": {
        "colab": {
          "base_uri": "https://localhost:8080/"
        },
        "id": "_sBPAgILEVzu",
        "outputId": "0ed437ec-d716-42d9-c705-94ba3cdc3670"
      },
      "execution_count": 39,
      "outputs": [
        {
          "output_type": "execute_result",
          "data": {
            "text/plain": [
              "0.905"
            ]
          },
          "metadata": {},
          "execution_count": 39
        }
      ]
    }
  ]
}